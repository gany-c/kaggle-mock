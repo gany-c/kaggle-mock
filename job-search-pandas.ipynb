{
 "cells": [
  {
   "cell_type": "markdown",
   "id": "17481e8d-93b4-45d3-b3c8-ef81b7744c31",
   "metadata": {},
   "source": [
    "# Start"
   ]
  },
  {
   "cell_type": "markdown",
   "id": "0d94c51c-cb44-40e1-80e1-539153c2ca4c",
   "metadata": {},
   "source": [
    "Solve this Kaggle problem https://www.kaggle.com/competitions/job-recommendation/overview"
   ]
  },
  {
   "cell_type": "code",
   "execution_count": 2,
   "id": "e8e200c4-a5b8-4f80-8ca7-c54a8764309a",
   "metadata": {},
   "outputs": [],
   "source": [
    "import pandas as pd\n",
    "#import gcsfs"
   ]
  },
  {
   "cell_type": "markdown",
   "id": "922b5fdf-3532-486f-9e9e-e4fe01bfef1b",
   "metadata": {},
   "source": [
    "# Start Loading Data"
   ]
  },
  {
   "cell_type": "markdown",
   "id": "3d759f80-fd43-449b-bce8-276a0b083bfa",
   "metadata": {},
   "source": [
    "### Load the applications data"
   ]
  },
  {
   "cell_type": "code",
   "execution_count": 3,
   "id": "02160d43-3a56-451d-8430-dae67fd3051b",
   "metadata": {},
   "outputs": [],
   "source": [
    "#applications_df = spark.read.format(\"csv\").option(\"header\", \"true\").option(\"delimiter\", \"\\t\").load(\"/Users/ganapathychidambaram/Desktop/predixions/apps.tsv\")\n",
    "\n",
    "gcs_path = 'gs://kaggle-competition-jobs/apps.tsv'\n",
    "gcs_path = \"/Users/ganapathychidambaram/Desktop/predixions/apps.tsv\"\n",
    "applications_df = pd.read_csv(gcs_path, sep='\\t')"
   ]
  },
  {
   "cell_type": "code",
   "execution_count": 4,
   "id": "147cf783-1329-4b6b-bab0-f63b63fcb9d6",
   "metadata": {},
   "outputs": [
    {
     "data": {
      "text/html": [
       "<div>\n",
       "<style scoped>\n",
       "    .dataframe tbody tr th:only-of-type {\n",
       "        vertical-align: middle;\n",
       "    }\n",
       "\n",
       "    .dataframe tbody tr th {\n",
       "        vertical-align: top;\n",
       "    }\n",
       "\n",
       "    .dataframe thead th {\n",
       "        text-align: right;\n",
       "    }\n",
       "</style>\n",
       "<table border=\"1\" class=\"dataframe\">\n",
       "  <thead>\n",
       "    <tr style=\"text-align: right;\">\n",
       "      <th></th>\n",
       "      <th>UserID</th>\n",
       "      <th>WindowID</th>\n",
       "      <th>Split</th>\n",
       "      <th>ApplicationDate</th>\n",
       "      <th>JobID</th>\n",
       "    </tr>\n",
       "  </thead>\n",
       "  <tbody>\n",
       "    <tr>\n",
       "      <th>0</th>\n",
       "      <td>47</td>\n",
       "      <td>1</td>\n",
       "      <td>Train</td>\n",
       "      <td>2012-04-04 15:56:23.537</td>\n",
       "      <td>169528</td>\n",
       "    </tr>\n",
       "    <tr>\n",
       "      <th>1</th>\n",
       "      <td>47</td>\n",
       "      <td>1</td>\n",
       "      <td>Train</td>\n",
       "      <td>2012-04-06 01:03:00.003</td>\n",
       "      <td>284009</td>\n",
       "    </tr>\n",
       "    <tr>\n",
       "      <th>2</th>\n",
       "      <td>47</td>\n",
       "      <td>1</td>\n",
       "      <td>Train</td>\n",
       "      <td>2012-04-05 02:40:27.753</td>\n",
       "      <td>2121</td>\n",
       "    </tr>\n",
       "    <tr>\n",
       "      <th>3</th>\n",
       "      <td>47</td>\n",
       "      <td>1</td>\n",
       "      <td>Train</td>\n",
       "      <td>2012-04-05 02:37:02.673</td>\n",
       "      <td>848187</td>\n",
       "    </tr>\n",
       "    <tr>\n",
       "      <th>4</th>\n",
       "      <td>47</td>\n",
       "      <td>1</td>\n",
       "      <td>Train</td>\n",
       "      <td>2012-04-05 22:44:06.653</td>\n",
       "      <td>733748</td>\n",
       "    </tr>\n",
       "    <tr>\n",
       "      <th>...</th>\n",
       "      <td>...</td>\n",
       "      <td>...</td>\n",
       "      <td>...</td>\n",
       "      <td>...</td>\n",
       "      <td>...</td>\n",
       "    </tr>\n",
       "    <tr>\n",
       "      <th>1603106</th>\n",
       "      <td>1472089</td>\n",
       "      <td>7</td>\n",
       "      <td>Train</td>\n",
       "      <td>2012-06-23 16:06:03.087</td>\n",
       "      <td>573732</td>\n",
       "    </tr>\n",
       "    <tr>\n",
       "      <th>1603107</th>\n",
       "      <td>1472089</td>\n",
       "      <td>7</td>\n",
       "      <td>Train</td>\n",
       "      <td>2012-06-25 23:20:35.603</td>\n",
       "      <td>39401</td>\n",
       "    </tr>\n",
       "    <tr>\n",
       "      <th>1603108</th>\n",
       "      <td>1472089</td>\n",
       "      <td>7</td>\n",
       "      <td>Train</td>\n",
       "      <td>2012-04-30 14:01:42.52</td>\n",
       "      <td>175198</td>\n",
       "    </tr>\n",
       "    <tr>\n",
       "      <th>1603109</th>\n",
       "      <td>1472089</td>\n",
       "      <td>7</td>\n",
       "      <td>Train</td>\n",
       "      <td>2012-04-30 13:52:45.823</td>\n",
       "      <td>1073263</td>\n",
       "    </tr>\n",
       "    <tr>\n",
       "      <th>1603110</th>\n",
       "      <td>1472089</td>\n",
       "      <td>7</td>\n",
       "      <td>Train</td>\n",
       "      <td>2012-04-30 13:39:15.213</td>\n",
       "      <td>646949</td>\n",
       "    </tr>\n",
       "  </tbody>\n",
       "</table>\n",
       "<p>1603111 rows × 5 columns</p>\n",
       "</div>"
      ],
      "text/plain": [
       "          UserID  WindowID  Split          ApplicationDate    JobID\n",
       "0             47         1  Train  2012-04-04 15:56:23.537   169528\n",
       "1             47         1  Train  2012-04-06 01:03:00.003   284009\n",
       "2             47         1  Train  2012-04-05 02:40:27.753     2121\n",
       "3             47         1  Train  2012-04-05 02:37:02.673   848187\n",
       "4             47         1  Train  2012-04-05 22:44:06.653   733748\n",
       "...          ...       ...    ...                      ...      ...\n",
       "1603106  1472089         7  Train  2012-06-23 16:06:03.087   573732\n",
       "1603107  1472089         7  Train  2012-06-25 23:20:35.603    39401\n",
       "1603108  1472089         7  Train   2012-04-30 14:01:42.52   175198\n",
       "1603109  1472089         7  Train  2012-04-30 13:52:45.823  1073263\n",
       "1603110  1472089         7  Train  2012-04-30 13:39:15.213   646949\n",
       "\n",
       "[1603111 rows x 5 columns]"
      ]
     },
     "execution_count": 4,
     "metadata": {},
     "output_type": "execute_result"
    }
   ],
   "source": [
    "applications_df"
   ]
  },
  {
   "cell_type": "code",
   "execution_count": 5,
   "id": "0dfcf97e-d4b2-478f-841a-a3f48ec2b2c2",
   "metadata": {},
   "outputs": [
    {
     "data": {
      "text/plain": [
       "UserID              int64\n",
       "WindowID            int64\n",
       "Split              object\n",
       "ApplicationDate    object\n",
       "JobID               int64\n",
       "dtype: object"
      ]
     },
     "execution_count": 5,
     "metadata": {},
     "output_type": "execute_result"
    }
   ],
   "source": [
    "applications_df.dtypes"
   ]
  },
  {
   "cell_type": "markdown",
   "id": "0f2078e2-c53b-4605-ae60-93c44108b464",
   "metadata": {},
   "source": [
    "pre-processing = Dropping null values, and again checking the count"
   ]
  },
  {
   "cell_type": "code",
   "execution_count": 6,
   "id": "58b9a6a5-38cb-4c46-8136-158ea002ad73",
   "metadata": {},
   "outputs": [],
   "source": [
    "applications_df = applications_df.dropna()"
   ]
  },
  {
   "cell_type": "code",
   "execution_count": 7,
   "id": "e5b4a8bc-d386-403b-b91e-3a234f4e16e4",
   "metadata": {},
   "outputs": [
    {
     "data": {
      "text/html": [
       "<div>\n",
       "<style scoped>\n",
       "    .dataframe tbody tr th:only-of-type {\n",
       "        vertical-align: middle;\n",
       "    }\n",
       "\n",
       "    .dataframe tbody tr th {\n",
       "        vertical-align: top;\n",
       "    }\n",
       "\n",
       "    .dataframe thead th {\n",
       "        text-align: right;\n",
       "    }\n",
       "</style>\n",
       "<table border=\"1\" class=\"dataframe\">\n",
       "  <thead>\n",
       "    <tr style=\"text-align: right;\">\n",
       "      <th></th>\n",
       "      <th>UserID</th>\n",
       "      <th>WindowID</th>\n",
       "      <th>JobID</th>\n",
       "    </tr>\n",
       "  </thead>\n",
       "  <tbody>\n",
       "    <tr>\n",
       "      <th>count</th>\n",
       "      <td>1.603111e+06</td>\n",
       "      <td>1.603111e+06</td>\n",
       "      <td>1.603111e+06</td>\n",
       "    </tr>\n",
       "    <tr>\n",
       "      <th>mean</th>\n",
       "      <td>7.627023e+05</td>\n",
       "      <td>3.643567e+00</td>\n",
       "      <td>5.652615e+05</td>\n",
       "    </tr>\n",
       "    <tr>\n",
       "      <th>std</th>\n",
       "      <td>4.225649e+05</td>\n",
       "      <td>2.029082e+00</td>\n",
       "      <td>3.239136e+05</td>\n",
       "    </tr>\n",
       "    <tr>\n",
       "      <th>min</th>\n",
       "      <td>7.000000e+00</td>\n",
       "      <td>1.000000e+00</td>\n",
       "      <td>1.000000e+00</td>\n",
       "    </tr>\n",
       "    <tr>\n",
       "      <th>25%</th>\n",
       "      <td>3.936690e+05</td>\n",
       "      <td>2.000000e+00</td>\n",
       "      <td>2.805265e+05</td>\n",
       "    </tr>\n",
       "    <tr>\n",
       "      <th>50%</th>\n",
       "      <td>7.841790e+05</td>\n",
       "      <td>4.000000e+00</td>\n",
       "      <td>5.678070e+05</td>\n",
       "    </tr>\n",
       "    <tr>\n",
       "      <th>75%</th>\n",
       "      <td>1.126113e+06</td>\n",
       "      <td>5.000000e+00</td>\n",
       "      <td>8.498670e+05</td>\n",
       "    </tr>\n",
       "    <tr>\n",
       "      <th>max</th>\n",
       "      <td>1.472095e+06</td>\n",
       "      <td>7.000000e+00</td>\n",
       "      <td>1.116313e+06</td>\n",
       "    </tr>\n",
       "  </tbody>\n",
       "</table>\n",
       "</div>"
      ],
      "text/plain": [
       "             UserID      WindowID         JobID\n",
       "count  1.603111e+06  1.603111e+06  1.603111e+06\n",
       "mean   7.627023e+05  3.643567e+00  5.652615e+05\n",
       "std    4.225649e+05  2.029082e+00  3.239136e+05\n",
       "min    7.000000e+00  1.000000e+00  1.000000e+00\n",
       "25%    3.936690e+05  2.000000e+00  2.805265e+05\n",
       "50%    7.841790e+05  4.000000e+00  5.678070e+05\n",
       "75%    1.126113e+06  5.000000e+00  8.498670e+05\n",
       "max    1.472095e+06  7.000000e+00  1.116313e+06"
      ]
     },
     "execution_count": 7,
     "metadata": {},
     "output_type": "execute_result"
    }
   ],
   "source": [
    "applications_df.describe()"
   ]
  },
  {
   "cell_type": "markdown",
   "id": "841caaf3-f565-4bf2-bca9-6719664d51be",
   "metadata": {},
   "source": [
    "The count remains the same after dropping null values, meaning there were no null values."
   ]
  },
  {
   "cell_type": "code",
   "execution_count": 8,
   "id": "4c09efa4-8467-43ca-bf73-80c32b90e2cc",
   "metadata": {},
   "outputs": [
    {
     "name": "stdout",
     "output_type": "stream",
     "text": [
      "Requirement already satisfied: scikit-learn in /opt/homebrew/lib/python3.11/site-packages (1.3.1)\n",
      "Requirement already satisfied: numpy<2.0,>=1.17.3 in /opt/homebrew/lib/python3.11/site-packages (from scikit-learn) (1.26.0)\n",
      "Requirement already satisfied: scipy>=1.5.0 in /opt/homebrew/lib/python3.11/site-packages (from scikit-learn) (1.11.3)\n",
      "Requirement already satisfied: joblib>=1.1.1 in /opt/homebrew/lib/python3.11/site-packages (from scikit-learn) (1.3.2)\n",
      "Requirement already satisfied: threadpoolctl>=2.0.0 in /opt/homebrew/lib/python3.11/site-packages (from scikit-learn) (3.2.0)\n",
      "\n",
      "\u001b[1m[\u001b[0m\u001b[34;49mnotice\u001b[0m\u001b[1;39;49m]\u001b[0m\u001b[39;49m A new release of pip is available: \u001b[0m\u001b[31;49m23.2.1\u001b[0m\u001b[39;49m -> \u001b[0m\u001b[32;49m23.3\u001b[0m\n",
      "\u001b[1m[\u001b[0m\u001b[34;49mnotice\u001b[0m\u001b[1;39;49m]\u001b[0m\u001b[39;49m To update, run: \u001b[0m\u001b[32;49mpython3.11 -m pip install --upgrade pip\u001b[0m\n",
      "Requirement already satisfied: xgboost in /opt/homebrew/lib/python3.11/site-packages (2.0.0)\n",
      "Requirement already satisfied: numpy in /opt/homebrew/lib/python3.11/site-packages (from xgboost) (1.26.0)\n",
      "Requirement already satisfied: scipy in /opt/homebrew/lib/python3.11/site-packages (from xgboost) (1.11.3)\n",
      "\n",
      "\u001b[1m[\u001b[0m\u001b[34;49mnotice\u001b[0m\u001b[1;39;49m]\u001b[0m\u001b[39;49m A new release of pip is available: \u001b[0m\u001b[31;49m23.2.1\u001b[0m\u001b[39;49m -> \u001b[0m\u001b[32;49m23.3\u001b[0m\n",
      "\u001b[1m[\u001b[0m\u001b[34;49mnotice\u001b[0m\u001b[1;39;49m]\u001b[0m\u001b[39;49m To update, run: \u001b[0m\u001b[32;49mpython3.11 -m pip install --upgrade pip\u001b[0m\n",
      "Requirement already satisfied: catboost in /opt/homebrew/lib/python3.11/site-packages (1.2.2)\n",
      "Requirement already satisfied: graphviz in /opt/homebrew/lib/python3.11/site-packages (from catboost) (0.20.1)\n",
      "Requirement already satisfied: matplotlib in /opt/homebrew/lib/python3.11/site-packages (from catboost) (3.8.0)\n",
      "Requirement already satisfied: numpy>=1.16.0 in /opt/homebrew/lib/python3.11/site-packages (from catboost) (1.26.0)\n",
      "Requirement already satisfied: pandas>=0.24 in /opt/homebrew/lib/python3.11/site-packages (from catboost) (2.1.1)\n",
      "Requirement already satisfied: scipy in /opt/homebrew/lib/python3.11/site-packages (from catboost) (1.11.3)\n",
      "Requirement already satisfied: plotly in /opt/homebrew/lib/python3.11/site-packages (from catboost) (5.17.0)\n",
      "Requirement already satisfied: six in /opt/homebrew/lib/python3.11/site-packages (from catboost) (1.16.0)\n",
      "Requirement already satisfied: python-dateutil>=2.8.2 in /opt/homebrew/lib/python3.11/site-packages (from pandas>=0.24->catboost) (2.8.2)\n",
      "Requirement already satisfied: pytz>=2020.1 in /opt/homebrew/lib/python3.11/site-packages (from pandas>=0.24->catboost) (2023.3.post1)\n",
      "Requirement already satisfied: tzdata>=2022.1 in /opt/homebrew/lib/python3.11/site-packages (from pandas>=0.24->catboost) (2023.3)\n",
      "Requirement already satisfied: contourpy>=1.0.1 in /opt/homebrew/lib/python3.11/site-packages (from matplotlib->catboost) (1.1.1)\n",
      "Requirement already satisfied: cycler>=0.10 in /opt/homebrew/lib/python3.11/site-packages (from matplotlib->catboost) (0.12.1)\n",
      "Requirement already satisfied: fonttools>=4.22.0 in /opt/homebrew/lib/python3.11/site-packages (from matplotlib->catboost) (4.43.1)\n",
      "Requirement already satisfied: kiwisolver>=1.0.1 in /opt/homebrew/lib/python3.11/site-packages (from matplotlib->catboost) (1.4.5)\n",
      "Requirement already satisfied: packaging>=20.0 in /opt/homebrew/lib/python3.11/site-packages (from matplotlib->catboost) (23.1)\n",
      "Requirement already satisfied: pillow>=6.2.0 in /opt/homebrew/lib/python3.11/site-packages (from matplotlib->catboost) (10.1.0)\n",
      "Requirement already satisfied: pyparsing>=2.3.1 in /opt/homebrew/lib/python3.11/site-packages (from matplotlib->catboost) (3.1.1)\n",
      "Requirement already satisfied: tenacity>=6.2.0 in /opt/homebrew/lib/python3.11/site-packages (from plotly->catboost) (8.2.3)\n",
      "\n",
      "\u001b[1m[\u001b[0m\u001b[34;49mnotice\u001b[0m\u001b[1;39;49m]\u001b[0m\u001b[39;49m A new release of pip is available: \u001b[0m\u001b[31;49m23.2.1\u001b[0m\u001b[39;49m -> \u001b[0m\u001b[32;49m23.3\u001b[0m\n",
      "\u001b[1m[\u001b[0m\u001b[34;49mnotice\u001b[0m\u001b[1;39;49m]\u001b[0m\u001b[39;49m To update, run: \u001b[0m\u001b[32;49mpython3.11 -m pip install --upgrade pip\u001b[0m\n"
     ]
    }
   ],
   "source": [
    "!pip3 install scikit-learn\n",
    "!pip3 install xgboost\n",
    "!pip3 install catboost"
   ]
  },
  {
   "cell_type": "code",
   "execution_count": 9,
   "id": "7a678225-12b8-4e22-a361-320bae77588e",
   "metadata": {},
   "outputs": [],
   "source": [
    "import pandas as pd\n",
    "\n",
    "from sklearn.ensemble import RandomForestClassifier\n",
    "import xgboost as xgb\n",
    "from sklearn.metrics import accuracy_score"
   ]
  },
  {
   "cell_type": "code",
   "execution_count": 10,
   "id": "8425a97d-1bb1-4db8-9eb5-de2c1781b7ae",
   "metadata": {},
   "outputs": [],
   "source": [
    "# Convert 'ApplicationDate' to datetime\n",
    "applications_df['ApplicationDate'] = pd.to_datetime(applications_df['ApplicationDate'],format='mixed')\n",
    "\n",
    "# Convert 'JobID' to numeric\n",
    "applications_df['JobID'] = pd.to_numeric(applications_df['JobID'])\n",
    "\n",
    "# Feature Engineering (add more features if needed)\n",
    "applications_df['DayOfWeek'] = applications_df['ApplicationDate'].dt.dayofweek\n",
    "applications_df['HourOfDay'] = applications_df['ApplicationDate'].dt.hour"
   ]
  },
  {
   "cell_type": "code",
   "execution_count": 11,
   "id": "4e2ddde1-b633-42a6-87c1-691383e01dd6",
   "metadata": {},
   "outputs": [
    {
     "data": {
      "text/plain": [
       "array([2, 4, 3, 0, 5, 1, 6], dtype=int32)"
      ]
     },
     "execution_count": 11,
     "metadata": {},
     "output_type": "execute_result"
    }
   ],
   "source": [
    "unique_days = applications_df['DayOfWeek'].unique()\n",
    "unique_days"
   ]
  },
  {
   "cell_type": "code",
   "execution_count": 12,
   "id": "30969c53-52d7-4b39-a4db-6d0c14d3c9fd",
   "metadata": {},
   "outputs": [
    {
     "data": {
      "text/plain": [
       "array([15,  1,  2, 22, 17, 20, 10, 21, 14,  9, 13, 18,  8,  7, 11,  5,  4,\n",
       "        0, 12, 23, 19, 16,  3,  6], dtype=int32)"
      ]
     },
     "execution_count": 12,
     "metadata": {},
     "output_type": "execute_result"
    }
   ],
   "source": [
    "unique_hours = applications_df['HourOfDay'].unique()\n",
    "unique_hours"
   ]
  },
  {
   "cell_type": "code",
   "execution_count": 13,
   "id": "d8994ff9-c735-4eaf-a7f0-55e027003b45",
   "metadata": {},
   "outputs": [
    {
     "name": "stdout",
     "output_type": "stream",
     "text": [
      "Number of null values in each column:\n",
      "UserID             0\n",
      "WindowID           0\n",
      "Split              0\n",
      "ApplicationDate    0\n",
      "JobID              0\n",
      "DayOfWeek          0\n",
      "HourOfDay          0\n",
      "dtype: int64\n"
     ]
    }
   ],
   "source": [
    "null_counts = applications_df.isnull().sum()\n",
    "\n",
    "# Print the null counts for each column\n",
    "print(\"Number of null values in each column:\")\n",
    "print(null_counts)"
   ]
  },
  {
   "cell_type": "code",
   "execution_count": 14,
   "id": "cae8c8e2-9dce-4ae0-b927-ba1fbb675cfa",
   "metadata": {},
   "outputs": [],
   "source": [
    "train_data = applications_df[applications_df['Split'] == 'Train']\n",
    "test_data = applications_df[applications_df['Split'] == 'Test']"
   ]
  },
  {
   "cell_type": "code",
   "execution_count": 15,
   "id": "8504043d-32e9-4046-a18b-c9daf85d88f3",
   "metadata": {},
   "outputs": [
    {
     "data": {
      "text/plain": [
       "array([1, 2, 3, 4, 5, 6, 7])"
      ]
     },
     "execution_count": 15,
     "metadata": {},
     "output_type": "execute_result"
    }
   ],
   "source": [
    "unique_window_ids = applications_df['WindowID'].unique()\n",
    "unique_window_ids"
   ]
  },
  {
   "cell_type": "code",
   "execution_count": null,
   "id": "c3fe7d62-aea6-4f58-9048-678988abb6b5",
   "metadata": {},
   "outputs": [
    {
     "name": "stdout",
     "output_type": "stream",
     "text": [
      "1\n",
      "(303833, 3)\n",
      "(303833,)\n"
     ]
    }
   ],
   "source": [
    "# Train the model (using RandomForestClassifier as an example)\n",
    "# model = xgb.XGBClassifier()\n",
    "from catboost import CatBoostClassifier\n",
    "\n",
    "for window_id in unique_window_ids:\n",
    "    print(window_id)\n",
    "    train_filtered_df = train_data[train_data['WindowID'] == window_id]\n",
    "    test_filtered_df = test_data[test_data['WindowID'] == window_id]\n",
    "\n",
    "    # Features and target variable\n",
    "    X_train = train_filtered_df[['UserID', 'DayOfWeek', 'HourOfDay']]\n",
    "    print(X_train.shape)\n",
    "    y_train = train_filtered_df['JobID']\n",
    "    print(y_train.shape)\n",
    "\n",
    "    # Features and target variable\n",
    "    X_test = test_filtered_df[['UserID', 'DayOfWeek', 'HourOfDay']]\n",
    "    y_test = test_filtered_df['JobID']\n",
    "    \n",
    "    model = CatBoostClassifier(iterations=1000, depth=6, learning_rate=0.1, verbose=100)\n",
    "    model.fit(X_train, y_train)\n",
    "    \n",
    "    model.fit(X_train, y_train)\n",
    "\n",
    "    # Predict on the test set\n",
    "    y_pred = model.predict(X_test)\n",
    "    \n",
    "    # Evaluate the model\n",
    "    accuracy = accuracy_score(y_test, y_pred)\n",
    "    print(\"Model Accuracy:\", accuracy)\n",
    "    break"
   ]
  },
  {
   "cell_type": "code",
   "execution_count": null,
   "id": "9d418c17-3fff-4e6c-9e84-56021e88b04f",
   "metadata": {},
   "outputs": [],
   "source": []
  },
  {
   "cell_type": "code",
   "execution_count": null,
   "id": "5b1a950a-4df8-41ce-9622-f47b238c7d22",
   "metadata": {},
   "outputs": [],
   "source": []
  }
 ],
 "metadata": {
  "kernelspec": {
   "display_name": "Python 3 (ipykernel)",
   "language": "python",
   "name": "python3"
  },
  "language_info": {
   "codemirror_mode": {
    "name": "ipython",
    "version": 3
   },
   "file_extension": ".py",
   "mimetype": "text/x-python",
   "name": "python",
   "nbconvert_exporter": "python",
   "pygments_lexer": "ipython3",
   "version": "3.11.5"
  }
 },
 "nbformat": 4,
 "nbformat_minor": 5
}
