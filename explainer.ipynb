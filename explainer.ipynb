{
 "cells": [
  {
   "cell_type": "markdown",
   "id": "e23fd6fa-b7d1-4f96-80ef-bfceb6c222c4",
   "metadata": {},
   "source": [
    "## Explainer"
   ]
  },
  {
   "cell_type": "markdown",
   "id": "d19eb894-3d95-445d-875a-7798f44714a5",
   "metadata": {},
   "source": [
    "https://titanicexplainer.herokuapp.com/"
   ]
  },
  {
   "cell_type": "code",
   "execution_count": 3,
   "id": "f52a640d-fa29-4954-9b61-15efd2c89cae",
   "metadata": {},
   "outputs": [
    {
     "name": "stdout",
     "output_type": "stream",
     "text": [
      "Requirement already satisfied: explainerdashboard in /opt/homebrew/lib/python3.11/site-packages (0.4.3)\n",
      "Requirement already satisfied: click in /opt/homebrew/lib/python3.11/site-packages (from explainerdashboard) (8.1.7)\n",
      "Requirement already satisfied: dash-auth in /opt/homebrew/lib/python3.11/site-packages (from explainerdashboard) (2.0.0)\n",
      "Requirement already satisfied: dash-bootstrap-components>=1 in /opt/homebrew/lib/python3.11/site-packages (from explainerdashboard) (1.5.0)\n",
      "Requirement already satisfied: dash>=2.10.1 in /opt/homebrew/lib/python3.11/site-packages (from explainerdashboard) (2.14.0)\n",
      "Requirement already satisfied: dtreeviz>=2.1 in /opt/homebrew/lib/python3.11/site-packages (from explainerdashboard) (2.2.2)\n",
      "Requirement already satisfied: flask-simplelogin in /opt/homebrew/lib/python3.11/site-packages (from explainerdashboard) (0.1.2)\n",
      "Requirement already satisfied: Flask-WTF>=1.1 in /opt/homebrew/lib/python3.11/site-packages (from explainerdashboard) (1.2.1)\n",
      "Requirement already satisfied: graphviz>=0.18.2 in /opt/homebrew/lib/python3.11/site-packages (from explainerdashboard) (0.20.1)\n",
      "Requirement already satisfied: joblib in /opt/homebrew/lib/python3.11/site-packages (from explainerdashboard) (1.3.2)\n",
      "Requirement already satisfied: jupyter-dash>=0.4.1 in /opt/homebrew/lib/python3.11/site-packages (from explainerdashboard) (0.4.2)\n",
      "Requirement already satisfied: numpy<=1.24.4 in /opt/homebrew/lib/python3.11/site-packages (from explainerdashboard) (1.24.4)\n",
      "Requirement already satisfied: oyaml in /opt/homebrew/lib/python3.11/site-packages (from explainerdashboard) (1.0)\n",
      "Requirement already satisfied: pandas>=1.1 in /opt/homebrew/lib/python3.11/site-packages (from explainerdashboard) (2.1.1)\n",
      "Requirement already satisfied: scikit-learn>=1.1 in /opt/homebrew/lib/python3.11/site-packages (from explainerdashboard) (1.3.1)\n",
      "Requirement already satisfied: shap>=0.42.1 in /opt/homebrew/lib/python3.11/site-packages (from explainerdashboard) (0.43.0)\n",
      "Requirement already satisfied: waitress in /opt/homebrew/lib/python3.11/site-packages (from explainerdashboard) (2.1.2)\n",
      "Requirement already satisfied: Flask<2.3.0,>=1.0.4 in /opt/homebrew/lib/python3.11/site-packages (from dash>=2.10.1->explainerdashboard) (2.2.5)\n",
      "Requirement already satisfied: Werkzeug<2.3.0 in /opt/homebrew/lib/python3.11/site-packages (from dash>=2.10.1->explainerdashboard) (2.2.3)\n",
      "Requirement already satisfied: plotly>=5.0.0 in /opt/homebrew/lib/python3.11/site-packages (from dash>=2.10.1->explainerdashboard) (5.17.0)\n",
      "Requirement already satisfied: dash-html-components==2.0.0 in /opt/homebrew/lib/python3.11/site-packages (from dash>=2.10.1->explainerdashboard) (2.0.0)\n",
      "Requirement already satisfied: dash-core-components==2.0.0 in /opt/homebrew/lib/python3.11/site-packages (from dash>=2.10.1->explainerdashboard) (2.0.0)\n",
      "Requirement already satisfied: dash-table==5.0.0 in /opt/homebrew/lib/python3.11/site-packages (from dash>=2.10.1->explainerdashboard) (5.0.0)\n",
      "Requirement already satisfied: typing-extensions>=4.1.1 in /opt/homebrew/lib/python3.11/site-packages (from dash>=2.10.1->explainerdashboard) (4.8.0)\n",
      "Requirement already satisfied: requests in /opt/homebrew/lib/python3.11/site-packages (from dash>=2.10.1->explainerdashboard) (2.31.0)\n",
      "Requirement already satisfied: retrying in /opt/homebrew/lib/python3.11/site-packages (from dash>=2.10.1->explainerdashboard) (1.3.4)\n",
      "Requirement already satisfied: ansi2html in /opt/homebrew/lib/python3.11/site-packages (from dash>=2.10.1->explainerdashboard) (1.8.0)\n",
      "Requirement already satisfied: nest-asyncio in /opt/homebrew/lib/python3.11/site-packages (from dash>=2.10.1->explainerdashboard) (1.5.8)\n",
      "Requirement already satisfied: setuptools in /opt/homebrew/lib/python3.11/site-packages (from dash>=2.10.1->explainerdashboard) (68.1.2)\n",
      "Requirement already satisfied: importlib-metadata in /opt/homebrew/lib/python3.11/site-packages (from dash>=2.10.1->explainerdashboard) (6.8.0)\n",
      "Requirement already satisfied: matplotlib in /opt/homebrew/lib/python3.11/site-packages (from dtreeviz>=2.1->explainerdashboard) (3.8.0)\n",
      "Requirement already satisfied: colour in /opt/homebrew/lib/python3.11/site-packages (from dtreeviz>=2.1->explainerdashboard) (0.1.5)\n",
      "Requirement already satisfied: pytest in /opt/homebrew/lib/python3.11/site-packages (from dtreeviz>=2.1->explainerdashboard) (7.4.3)\n",
      "Requirement already satisfied: itsdangerous in /opt/homebrew/lib/python3.11/site-packages (from Flask-WTF>=1.1->explainerdashboard) (2.1.2)\n",
      "Requirement already satisfied: wtforms in /opt/homebrew/lib/python3.11/site-packages (from Flask-WTF>=1.1->explainerdashboard) (3.1.0)\n",
      "Requirement already satisfied: ipython in /opt/homebrew/lib/python3.11/site-packages (from jupyter-dash>=0.4.1->explainerdashboard) (8.16.1)\n",
      "Requirement already satisfied: ipykernel in /opt/homebrew/lib/python3.11/site-packages (from jupyter-dash>=0.4.1->explainerdashboard) (6.26.0)\n",
      "Requirement already satisfied: python-dateutil>=2.8.2 in /opt/homebrew/lib/python3.11/site-packages (from pandas>=1.1->explainerdashboard) (2.8.2)\n",
      "Requirement already satisfied: pytz>=2020.1 in /opt/homebrew/lib/python3.11/site-packages (from pandas>=1.1->explainerdashboard) (2023.3.post1)\n",
      "Requirement already satisfied: tzdata>=2022.1 in /opt/homebrew/lib/python3.11/site-packages (from pandas>=1.1->explainerdashboard) (2023.3)\n",
      "Requirement already satisfied: scipy>=1.5.0 in /opt/homebrew/lib/python3.11/site-packages (from scikit-learn>=1.1->explainerdashboard) (1.11.3)\n",
      "Requirement already satisfied: threadpoolctl>=2.0.0 in /opt/homebrew/lib/python3.11/site-packages (from scikit-learn>=1.1->explainerdashboard) (3.2.0)\n",
      "Requirement already satisfied: tqdm>=4.27.0 in /opt/homebrew/lib/python3.11/site-packages (from shap>=0.42.1->explainerdashboard) (4.66.1)\n",
      "Requirement already satisfied: packaging>20.9 in /opt/homebrew/lib/python3.11/site-packages (from shap>=0.42.1->explainerdashboard) (23.1)\n",
      "Requirement already satisfied: slicer==0.0.7 in /opt/homebrew/lib/python3.11/site-packages (from shap>=0.42.1->explainerdashboard) (0.0.7)\n",
      "Requirement already satisfied: numba in /opt/homebrew/lib/python3.11/site-packages (from shap>=0.42.1->explainerdashboard) (0.58.1)\n",
      "Requirement already satisfied: cloudpickle in /opt/homebrew/lib/python3.11/site-packages (from shap>=0.42.1->explainerdashboard) (3.0.0)\n",
      "Requirement already satisfied: pyyaml in /opt/homebrew/lib/python3.11/site-packages (from oyaml->explainerdashboard) (6.0.1)\n",
      "Requirement already satisfied: Jinja2>=3.0 in /opt/homebrew/lib/python3.11/site-packages (from Flask<2.3.0,>=1.0.4->dash>=2.10.1->explainerdashboard) (3.1.2)\n",
      "Requirement already satisfied: tenacity>=6.2.0 in /opt/homebrew/lib/python3.11/site-packages (from plotly>=5.0.0->dash>=2.10.1->explainerdashboard) (8.2.3)\n",
      "Requirement already satisfied: six>=1.5 in /opt/homebrew/lib/python3.11/site-packages (from python-dateutil>=2.8.2->pandas>=1.1->explainerdashboard) (1.16.0)\n",
      "Requirement already satisfied: MarkupSafe>=2.1.1 in /opt/homebrew/lib/python3.11/site-packages (from Werkzeug<2.3.0->dash>=2.10.1->explainerdashboard) (2.1.3)\n",
      "Requirement already satisfied: zipp>=0.5 in /opt/homebrew/lib/python3.11/site-packages (from importlib-metadata->dash>=2.10.1->explainerdashboard) (3.17.0)\n",
      "Requirement already satisfied: appnope in /opt/homebrew/lib/python3.11/site-packages (from ipykernel->jupyter-dash>=0.4.1->explainerdashboard) (0.1.3)\n",
      "Requirement already satisfied: comm>=0.1.1 in /opt/homebrew/lib/python3.11/site-packages (from ipykernel->jupyter-dash>=0.4.1->explainerdashboard) (0.1.4)\n",
      "Requirement already satisfied: debugpy>=1.6.5 in /opt/homebrew/lib/python3.11/site-packages (from ipykernel->jupyter-dash>=0.4.1->explainerdashboard) (1.8.0)\n",
      "Requirement already satisfied: jupyter-client>=6.1.12 in /opt/homebrew/lib/python3.11/site-packages (from ipykernel->jupyter-dash>=0.4.1->explainerdashboard) (8.5.0)\n",
      "Requirement already satisfied: jupyter-core!=5.0.*,>=4.12 in /opt/homebrew/lib/python3.11/site-packages (from ipykernel->jupyter-dash>=0.4.1->explainerdashboard) (5.4.0)\n",
      "Requirement already satisfied: matplotlib-inline>=0.1 in /opt/homebrew/lib/python3.11/site-packages (from ipykernel->jupyter-dash>=0.4.1->explainerdashboard) (0.1.6)\n",
      "Requirement already satisfied: psutil in /opt/homebrew/lib/python3.11/site-packages (from ipykernel->jupyter-dash>=0.4.1->explainerdashboard) (5.9.6)\n",
      "Requirement already satisfied: pyzmq>=20 in /opt/homebrew/lib/python3.11/site-packages (from ipykernel->jupyter-dash>=0.4.1->explainerdashboard) (25.1.1)\n",
      "Requirement already satisfied: tornado>=6.1 in /opt/homebrew/lib/python3.11/site-packages (from ipykernel->jupyter-dash>=0.4.1->explainerdashboard) (6.3.3)\n",
      "Requirement already satisfied: traitlets>=5.4.0 in /opt/homebrew/lib/python3.11/site-packages (from ipykernel->jupyter-dash>=0.4.1->explainerdashboard) (5.12.0)\n",
      "Requirement already satisfied: backcall in /opt/homebrew/lib/python3.11/site-packages (from ipython->jupyter-dash>=0.4.1->explainerdashboard) (0.2.0)\n",
      "Requirement already satisfied: decorator in /opt/homebrew/lib/python3.11/site-packages (from ipython->jupyter-dash>=0.4.1->explainerdashboard) (5.1.1)\n",
      "Requirement already satisfied: jedi>=0.16 in /opt/homebrew/lib/python3.11/site-packages (from ipython->jupyter-dash>=0.4.1->explainerdashboard) (0.19.1)\n",
      "Requirement already satisfied: pickleshare in /opt/homebrew/lib/python3.11/site-packages (from ipython->jupyter-dash>=0.4.1->explainerdashboard) (0.7.5)\n",
      "Requirement already satisfied: prompt-toolkit!=3.0.37,<3.1.0,>=3.0.30 in /opt/homebrew/lib/python3.11/site-packages (from ipython->jupyter-dash>=0.4.1->explainerdashboard) (3.0.39)\n",
      "Requirement already satisfied: pygments>=2.4.0 in /opt/homebrew/lib/python3.11/site-packages (from ipython->jupyter-dash>=0.4.1->explainerdashboard) (2.16.1)\n",
      "Requirement already satisfied: stack-data in /opt/homebrew/lib/python3.11/site-packages (from ipython->jupyter-dash>=0.4.1->explainerdashboard) (0.6.3)\n",
      "Requirement already satisfied: pexpect>4.3 in /opt/homebrew/lib/python3.11/site-packages (from ipython->jupyter-dash>=0.4.1->explainerdashboard) (4.8.0)\n",
      "Requirement already satisfied: contourpy>=1.0.1 in /opt/homebrew/lib/python3.11/site-packages (from matplotlib->dtreeviz>=2.1->explainerdashboard) (1.1.1)\n",
      "Requirement already satisfied: cycler>=0.10 in /opt/homebrew/lib/python3.11/site-packages (from matplotlib->dtreeviz>=2.1->explainerdashboard) (0.12.1)\n",
      "Requirement already satisfied: fonttools>=4.22.0 in /opt/homebrew/lib/python3.11/site-packages (from matplotlib->dtreeviz>=2.1->explainerdashboard) (4.43.1)\n",
      "Requirement already satisfied: kiwisolver>=1.0.1 in /opt/homebrew/lib/python3.11/site-packages (from matplotlib->dtreeviz>=2.1->explainerdashboard) (1.4.5)\n",
      "Requirement already satisfied: pillow>=6.2.0 in /opt/homebrew/lib/python3.11/site-packages (from matplotlib->dtreeviz>=2.1->explainerdashboard) (10.1.0)\n",
      "Requirement already satisfied: pyparsing>=2.3.1 in /opt/homebrew/lib/python3.11/site-packages (from matplotlib->dtreeviz>=2.1->explainerdashboard) (3.1.1)\n",
      "Requirement already satisfied: llvmlite<0.42,>=0.41.0dev0 in /opt/homebrew/lib/python3.11/site-packages (from numba->shap>=0.42.1->explainerdashboard) (0.41.1)\n",
      "Requirement already satisfied: iniconfig in /opt/homebrew/lib/python3.11/site-packages (from pytest->dtreeviz>=2.1->explainerdashboard) (2.0.0)\n",
      "Requirement already satisfied: pluggy<2.0,>=0.12 in /opt/homebrew/lib/python3.11/site-packages (from pytest->dtreeviz>=2.1->explainerdashboard) (1.3.0)\n",
      "Requirement already satisfied: charset-normalizer<4,>=2 in /opt/homebrew/lib/python3.11/site-packages (from requests->dash>=2.10.1->explainerdashboard) (3.3.1)\n",
      "Requirement already satisfied: idna<4,>=2.5 in /opt/homebrew/lib/python3.11/site-packages (from requests->dash>=2.10.1->explainerdashboard) (3.4)\n",
      "Requirement already satisfied: urllib3<3,>=1.21.1 in /opt/homebrew/lib/python3.11/site-packages (from requests->dash>=2.10.1->explainerdashboard) (2.0.7)\n",
      "Requirement already satisfied: certifi>=2017.4.17 in /opt/homebrew/lib/python3.11/site-packages (from requests->dash>=2.10.1->explainerdashboard) (2023.7.22)\n",
      "Requirement already satisfied: parso<0.9.0,>=0.8.3 in /opt/homebrew/lib/python3.11/site-packages (from jedi>=0.16->ipython->jupyter-dash>=0.4.1->explainerdashboard) (0.8.3)\n",
      "Requirement already satisfied: platformdirs>=2.5 in /opt/homebrew/lib/python3.11/site-packages (from jupyter-core!=5.0.*,>=4.12->ipykernel->jupyter-dash>=0.4.1->explainerdashboard) (3.11.0)\n",
      "Requirement already satisfied: ptyprocess>=0.5 in /opt/homebrew/lib/python3.11/site-packages (from pexpect>4.3->ipython->jupyter-dash>=0.4.1->explainerdashboard) (0.7.0)\n",
      "Requirement already satisfied: wcwidth in /opt/homebrew/lib/python3.11/site-packages (from prompt-toolkit!=3.0.37,<3.1.0,>=3.0.30->ipython->jupyter-dash>=0.4.1->explainerdashboard) (0.2.8)\n",
      "Requirement already satisfied: executing>=1.2.0 in /opt/homebrew/lib/python3.11/site-packages (from stack-data->ipython->jupyter-dash>=0.4.1->explainerdashboard) (2.0.0)\n",
      "Requirement already satisfied: asttokens>=2.1.0 in /opt/homebrew/lib/python3.11/site-packages (from stack-data->ipython->jupyter-dash>=0.4.1->explainerdashboard) (2.4.0)\n",
      "Requirement already satisfied: pure-eval in /opt/homebrew/lib/python3.11/site-packages (from stack-data->ipython->jupyter-dash>=0.4.1->explainerdashboard) (0.2.2)\n",
      "\n",
      "\u001b[1m[\u001b[0m\u001b[34;49mnotice\u001b[0m\u001b[1;39;49m]\u001b[0m\u001b[39;49m A new release of pip is available: \u001b[0m\u001b[31;49m23.2.1\u001b[0m\u001b[39;49m -> \u001b[0m\u001b[32;49m23.3\u001b[0m\n",
      "\u001b[1m[\u001b[0m\u001b[34;49mnotice\u001b[0m\u001b[1;39;49m]\u001b[0m\u001b[39;49m To update, run: \u001b[0m\u001b[32;49mpython3.11 -m pip install --upgrade pip\u001b[0m\n",
      "\n",
      "Usage:   \n",
      "  pip3 install [options] <requirement specifier> [package-index-options] ...\n",
      "  pip3 install [options] -r <requirements file> [package-index-options] ...\n",
      "  pip3 install [options] [-e] <vcs project url> ...\n",
      "  pip3 install [options] [-e] <local project path> ...\n",
      "  pip3 install [options] <archive url/path> ...\n",
      "\n",
      "no such option: -u\n"
     ]
    }
   ],
   "source": [
    "!pip3 install explainerdashboard\n",
    "!pip3 install -u IProgress"
   ]
  },
  {
   "cell_type": "code",
   "execution_count": 4,
   "id": "c7b63ed6-485e-48a8-afbb-1a0e14d8b1b9",
   "metadata": {},
   "outputs": [],
   "source": [
    "from sklearn.ensemble import RandomForestClassifier\n",
    "\n",
    "from explainerdashboard import ClassifierExplainer, ExplainerDashboard\n",
    "from explainerdashboard.datasets import titanic_survive, feature_descriptions"
   ]
  },
  {
   "cell_type": "code",
   "execution_count": 5,
   "id": "ee59d8c8-26a4-4cf4-84f3-a59ec1b4c9eb",
   "metadata": {},
   "outputs": [],
   "source": [
    "X_train, y_train, X_test, y_test = titanic_survive()\n",
    "model = RandomForestClassifier(n_estimators=50, max_depth=10).fit(X_train, y_train)\n"
   ]
  },
  {
   "cell_type": "code",
   "execution_count": 6,
   "id": "98023088-2e22-4781-9845-34b366088ab9",
   "metadata": {},
   "outputs": [
    {
     "name": "stdout",
     "output_type": "stream",
     "text": [
      "Detected RandomForestClassifier model: Changing class type to RandomForestClassifierExplainer...\n",
      "Note: model_output=='probability', so assuming that raw shap output of RandomForestClassifier is in probability space...\n",
      "Generating self.shap_explainer = shap.TreeExplainer(model)\n"
     ]
    }
   ],
   "source": [
    "explainer = ClassifierExplainer(model, X_test, y_test, \n",
    "                               cats=['Sex', 'Deck', 'Embarked'],\n",
    "                               descriptions=feature_descriptions,\n",
    "                               labels=['Not survived', 'Survived'])"
   ]
  },
  {
   "cell_type": "code",
   "execution_count": 8,
   "id": "bbd9f799-b258-425b-bdb7-6b9756c7c05e",
   "metadata": {},
   "outputs": [
    {
     "data": {
      "text/plain": [
       "\u001b[0;31mType:\u001b[0m           RandomForestClassifierExplainer\n",
       "\u001b[0;31mString form:\u001b[0m    <explainerdashboard.explainers.RandomForestClassifierExplainer object at 0x17e719150>\n",
       "\u001b[0;31mLength:\u001b[0m         200\n",
       "\u001b[0;31mFile:\u001b[0m           /opt/homebrew/lib/python3.11/site-packages/explainerdashboard/explainers.py\n",
       "\u001b[0;31mDocstring:\u001b[0m     \n",
       "RandomForestClassifierExplainer inherits from both RandomForestExplainer and\n",
       "ClassifierExplainer.\n",
       "\u001b[0;31mInit docstring:\u001b[0m\n",
       "Explainer for classification models. Defines the shap values for\n",
       "each possible class in the classification.\n",
       "\n",
       "You assign the positive label class afterwards with e.g. explainer.pos_label=0\n",
       "\n",
       "In addition defines a number of plots specific to classification problems\n",
       "such as a precision plot, confusion matrix, roc auc curve and pr auc curve.\n",
       "\n",
       "Compared to BaseExplainer defines two additional parameters\n",
       "\n",
       "Args:\n",
       "    model: a model with a scikit-learn compatible .fit and .predict methods\n",
       "    X (pd.DataFrame): a pd.DataFrame with your model features\n",
       "    y (pd.Series): Dependent variable of your model, defaults to None\n",
       "    permutation_metric (function or str): is a scikit-learn compatible\n",
       "        metric function (or string). Defaults to r2_score\n",
       "    shap (str): type of shap_explainer to fit: 'tree', 'linear', 'kernel'.\n",
       "        Defaults to 'guess'.\n",
       "    X_background (pd.DataFrame): background X to be used by shap\n",
       "        explainers that need a background dataset (e.g. shap.KernelExplainer\n",
       "        or shap.TreeExplainer with boosting models and\n",
       "        model_output='probability').\n",
       "    model_output (str): model_output of shap values, either 'raw',\n",
       "        'logodds' or 'probability'. Defaults to 'raw' for regression and\n",
       "        'probability' for classification.\n",
       "    cats ({dict, list}): dict of features that have been\n",
       "        onehotencoded. e.g. cats={'Sex':['Sex_male', 'Sex_female']}.\n",
       "        If all encoded columns are underscore-seperated (as above), can simply\n",
       "        pass a list of prefixes: cats=['Sex']. Allows to\n",
       "        group onehot encoded categorical variables together in\n",
       "        various plots. Defaults to None.\n",
       "    cats_notencoded (dict): value to display when all onehot encoded\n",
       "        columns are equal to zero. Defaults to 'NOT_ENCODED' for each\n",
       "        onehot col.\n",
       "    idxs (pd.Series): list of row identifiers. Can be names, id's, etc.\n",
       "        Defaults to X.index.\n",
       "    index_name (str): identifier for row indexes. e.g. index_name='Passenger'.\n",
       "        Defaults to X.index.name or idxs.name.\n",
       "    target: name of the predicted target, e.g. \"Survival\",\n",
       "        \"Ticket price\", etc. Defaults to y.name.\n",
       "    n_jobs (int): for jobs that can be parallelized using joblib,\n",
       "        how many processes to split the job in. For now only used\n",
       "        for calculating permutation importances. Defaults to None.\n",
       "    permutation_cv (int): Deprecated! Use parameter cv instead!\n",
       "        (now also works for calculating metrics)\n",
       "    cv (int): If not None then permutation importances and metrics\n",
       "        will get calculated using cross validation across X. Use this\n",
       "        when you are passing the training set to the explainer.\n",
       "        Defaults to None.\n",
       "    na_fill (int): The filler used for missing values, defaults to -999.\n",
       "    precision: precision with which to store values. Defaults to \"float64\".\n",
       "    shap_kwargs(dict): dictionary of keyword arguments to be passed to the shap explainer.\n",
       "        most typically used to supress an additivity check e.g. `shap_kwargs=dict(check_additivity=False)`\n",
       "    labels(list): list of str labels for the different classes,\n",
       "                defaults to e.g. ['0', '1'] for a binary classification\n",
       "    pos_label: class that should be used as the positive class,\n",
       "                defaults to 1"
      ]
     },
     "metadata": {},
     "output_type": "display_data"
    }
   ],
   "source": [
    "explainer?"
   ]
  },
  {
   "cell_type": "code",
   "execution_count": 11,
   "id": "65a878d5-fdee-4c40-8324-2b4add5df7db",
   "metadata": {},
   "outputs": [
    {
     "name": "stdout",
     "output_type": "stream",
     "text": [
      "Building ExplainerDashboard..\n",
      "Detected notebook environment, consider setting mode='external', mode='inline' or mode='jupyterlab' to keep the notebook interactive while the dashboard is running...\n",
      "Warning: calculating shap interaction values can be slow! Pass shap_interaction=False to remove interactions tab.\n",
      "Generating layout...\n",
      "Calculating shap values...\n",
      "Calculating prediction probabilities...\n",
      "Calculating metrics...\n",
      "Calculating confusion matrices...\n",
      "Calculating classification_dfs...\n",
      "Calculating roc auc curves...\n",
      "Calculating pr auc curves...\n",
      "Calculating liftcurve_dfs...\n"
     ]
    },
    {
     "name": "stderr",
     "output_type": "stream",
     "text": [
      "/opt/homebrew/lib/python3.11/site-packages/explainerdashboard/explainer_methods.py:1086: FutureWarning:\n",
      "\n",
      "The behavior of DataFrame concatenation with empty or all-NA entries is deprecated. In a future version, this will no longer exclude empty or all-NA columns when determining the result dtypes. To retain the old behavior, exclude the relevant entries before the concat operation.\n",
      "\n"
     ]
    },
    {
     "name": "stdout",
     "output_type": "stream",
     "text": [
      "Calculating shap interaction values... (this may take a while)\n",
      "Reminder: TreeShap computational complexity is O(TLD^2), where T is the number of trees, L is the maximum number of leaves in any tree and D the maximal depth of any tree. So reducing these will speed up the calculation.\n",
      "Calculating dependencies...\n",
      "Calculating permutation importances (if slow, try setting n_jobs parameter)...\n",
      "Calculating predictions...\n",
      "Calculating pred_percentiles...\n",
      "Calculating ShadowDecTree for each individual decision tree...\n",
      "Reminder: you can store the explainer (including calculated dependencies) with explainer.dump('explainer.joblib') and reload with e.g. ClassifierExplainer.from_file('explainer.joblib')\n",
      "Registering callbacks...\n",
      "Starting ExplainerDashboard on http://192.168.1.7:8050\n"
     ]
    },
    {
     "data": {
      "text/html": [
       "\n",
       "        <iframe\n",
       "            width=\"100%\"\n",
       "            height=\"650\"\n",
       "            src=\"http://0.0.0.0:8050/\"\n",
       "            frameborder=\"0\"\n",
       "            allowfullscreen\n",
       "            \n",
       "        ></iframe>\n",
       "        "
      ],
      "text/plain": [
       "<IPython.lib.display.IFrame at 0x17eda7ed0>"
      ]
     },
     "metadata": {},
     "output_type": "display_data"
    },
    {
     "name": "stderr",
     "output_type": "stream",
     "text": [
      "/opt/homebrew/lib/python3.11/site-packages/explainerdashboard/explainer_methods.py:1086: FutureWarning:\n",
      "\n",
      "The behavior of DataFrame concatenation with empty or all-NA entries is deprecated. In a future version, this will no longer exclude empty or all-NA columns when determining the result dtypes. To retain the old behavior, exclude the relevant entries before the concat operation.\n",
      "\n"
     ]
    }
   ],
   "source": [
    "ExplainerDashboard(explainer).run()"
   ]
  },
  {
   "cell_type": "code",
   "execution_count": null,
   "id": "52b6edf5-42ba-4568-b7a1-d88df5427707",
   "metadata": {},
   "outputs": [],
   "source": []
  }
 ],
 "metadata": {
  "kernelspec": {
   "display_name": "Python 3 (ipykernel)",
   "language": "python",
   "name": "python3"
  },
  "language_info": {
   "codemirror_mode": {
    "name": "ipython",
    "version": 3
   },
   "file_extension": ".py",
   "mimetype": "text/x-python",
   "name": "python",
   "nbconvert_exporter": "python",
   "pygments_lexer": "ipython3",
   "version": "3.11.5"
  }
 },
 "nbformat": 4,
 "nbformat_minor": 5
}
